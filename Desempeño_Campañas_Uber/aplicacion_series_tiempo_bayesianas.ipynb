{
 "cells": [
  {
   "cell_type": "markdown",
   "id": "clinical-lighter",
   "metadata": {},
   "source": [
    "# Medición de impacto de campañas publicitarias de Uber mediante series de tiempo bayesianas"
   ]
  },
  {
   "cell_type": "markdown",
   "id": "disabled-niger",
   "metadata": {},
   "source": [
    "**Elias Buitrago Bolivar** <br>\n",
    "*Bogotá, Colombia* <br>\n",
    "*26/mayo/2021* <br>\n",
    "*Las actualizaciones de este código se encuentran en mi cuenta [github](https://github.com/ebuitrago/BI/blob/main/ARL_accidentes_trabajo/modelo_AT_arboles.ipynb)*"
   ]
  },
  {
   "cell_type": "markdown",
   "id": "supported-trouble",
   "metadata": {},
   "source": [
    "## Cargar librerías"
   ]
  },
  {
   "cell_type": "code",
   "execution_count": 8,
   "id": "elder-african",
   "metadata": {},
   "outputs": [],
   "source": [
    "import numpy as np\n",
    "import pandas as pd\n",
    "import datetime\n",
    "import matplotlib.pyplot as plt\n",
    "import datetime as dt"
   ]
  },
  {
   "cell_type": "code",
   "execution_count": null,
   "id": "prime-living",
   "metadata": {},
   "outputs": [],
   "source": [
    "from sklearn import preprocessing\n",
    "from sklearn.tree import DecisionTreeClassifier\n",
    "from sklearn.model_selection import train_test_split\n",
    "from sklearn.tree import export_graphviz\n",
    "from sklearn import metrics, svm\n",
    "from sklearn.metrics import recall_score\n",
    "import graphviz\n",
    "import seaborn as sns"
   ]
  },
  {
   "cell_type": "markdown",
   "id": "separate-fairy",
   "metadata": {},
   "source": [
    "## Cargar datos\n",
    "Se leen los archivos de datos formato csv. Inicialmente se tienen disponibles seis archivos con los datos de viajes de Uber desde abril hasta septiembre."
   ]
  },
  {
   "cell_type": "code",
   "execution_count": 9,
   "id": "specific-puppy",
   "metadata": {},
   "outputs": [],
   "source": [
    "col_names = ['No','Fecha.Hora','Lat','Lon','Categoria','Zona']\n",
    "datos_abril = pd.read_csv(\"Datos/datos_abril.csv\", skiprows=1, names=col_names)\n",
    "datos_abril = datos_abril.drop(['No'], axis=1, index=None)\n",
    "datos_mayo = pd.read_csv(\"Datos/datos_mayo.csv\", skiprows=1, names=col_names)\n",
    "datos_mayo = datos_mayo.drop(['No'], axis=1)\n",
    "datos_junio = pd.read_csv(\"Datos/datos_junio.csv\", skiprows=1, names=col_names)\n",
    "datos_junio = datos_junio.drop(['No'], axis=1)\n",
    "datos_julio = pd.read_csv(\"Datos/datos_julio.csv\", skiprows=1, names=col_names)\n",
    "datos_julio = datos_julio.drop(['No'], axis=1)\n",
    "datos_agosto = pd.read_csv(\"Datos/datos_agosto.csv\", skiprows=1, names=col_names)\n",
    "datos_agosto = datos_agosto.drop(['No'], axis=1)\n",
    "datos_septiembre = pd.read_csv(\"Datos/datos_septiembre.csv\", skiprows=1, names=col_names)\n",
    "datos_septiembre = datos_septiembre.drop(['No'], axis=1)"
   ]
  },
  {
   "cell_type": "code",
   "execution_count": null,
   "id": "periodic-genius",
   "metadata": {},
   "outputs": [],
   "source": [
    "# datos = datos_abril\n",
    "# datos = datos.append(datos_mayo)\n",
    "# datos = datos.append(datos_junio)\n",
    "# datos = datos.append(datos_julio)\n",
    "# datos = datos.append(datos_agosto)\n",
    "# datos = datos.append(datos_septiembre)"
   ]
  },
  {
   "cell_type": "markdown",
   "id": "optional-yeast",
   "metadata": {},
   "source": [
    "## Transformación datos\n",
    "A partir de los datos iniciales, se hacen transformaciones parar obtener los datos específicos que permitan analizar los resultados de las dos campañas adelantadas por la empresa."
   ]
  },
  {
   "cell_type": "markdown",
   "id": "turkish-curtis",
   "metadata": {},
   "source": [
    "### Datos campaña Jersey City\n",
    "Se filtran los datos para seleccionar los viajes de la zona Jersey City. Luego, se hace otro filtrado para extraer los viajes en las horas valle: desde la media noche hasta las once. Finalmente se crea una lista con el conteo del número de viajes diarias en el horario de interés para la campaña."
   ]
  },
  {
   "cell_type": "code",
   "execution_count": null,
   "id": "shared-radius",
   "metadata": {},
   "outputs": [],
   "source": [
    "# jc_data = datos_abril[['Zona','Fecha.Hora']].groupby('Zona', ).get_group('Jersey City').reset_index(drop=True)"
   ]
  },
  {
   "cell_type": "code",
   "execution_count": 10,
   "id": "irish-collection",
   "metadata": {},
   "outputs": [],
   "source": [
    "def cmp1(datos_mes):\n",
    "    f=[]\n",
    "    d=[]\n",
    "    h=[]\n",
    "    jc_data = datos_mes[(datos_mes.Zona == 'Jersey City')].reset_index(drop=True)\n",
    "    for i in range(0,len(jc_data)):\n",
    "        aux = dt.datetime.strptime(jc_data.iloc[i,0], '%m/%d/%Y %H:%M:%S')\n",
    "#         aux1 = aux.day\n",
    "        aux2 = aux.hour\n",
    "        f.insert(i,aux.strftime('%m/%d'))\n",
    "#         d.insert(i,aux1)\n",
    "        h.insert(i,aux2)\n",
    "\n",
    "    jc_data_cmp1=pd.DataFrame()\n",
    "    jc_data_cmp1['Fecha'] = f\n",
    "#     jc_data_cmp1['Dia'] = d\n",
    "    jc_data_cmp1['Hora'] = h\n",
    "\n",
    "    jc_data_cmp1 = jc_data_cmp1[(jc_data_cmp1.Hora <= 11)].reset_index(drop=True)\n",
    "    serie_cmp1=jc_data_cmp1.groupby('Fecha').count()\n",
    "    print(datos_cmp1_abril.head())\n",
    "    return serie_cmp1"
   ]
  },
  {
   "cell_type": "code",
   "execution_count": 11,
   "id": "military-solution",
   "metadata": {},
   "outputs": [],
   "source": [
    "def cmp1_ref(datos_mes):\n",
    "    d=[]\n",
    "    h=[]\n",
    "    jc_data = datos_mes[(datos_mes.Zona != 'Jersey City')].reset_index(drop=True)\n",
    "    for i in range(0,len(jc_data)):\n",
    "        aux = dt.datetime.strptime(jc_data.iloc[i,0], '%m/%d/%Y %H:%M:%S')\n",
    "        aux1 = aux.day\n",
    "        aux2 = aux.hour\n",
    "        d.insert(i,aux1)\n",
    "        h.insert(i,aux2)\n",
    "\n",
    "    jc_data_cmp1=pd.DataFrame()\n",
    "    jc_data_cmp1['Dia'] = d\n",
    "    jc_data_cmp1['Hora'] = h\n",
    "    jc_data_cmp1.head()\n",
    "\n",
    "    jc_data_cmp1 = jc_data_cmp1[(jc_data_cmp1.Hora <= 11)].reset_index(drop=True)\n",
    "    serie_cmp1_ref=jc_data_cmp1.groupby('Dia').count()    \n",
    "    return serie_cmp1_ref"
   ]
  },
  {
   "cell_type": "code",
   "execution_count": 12,
   "id": "physical-cedar",
   "metadata": {},
   "outputs": [],
   "source": [
    "#Filtrar datos de viajes en horas valle en la zona Jersey City, para analizar la campaña #1\n",
    "datos_cmp1_abril = cmp1(datos_abril)\n",
    "datos_cmp1_mayo = cmp1(datos_mayo)\n",
    "datos_cmp1_junio = cmp1(datos_junio)\n",
    "datos_cmp1_julio = cmp1(datos_julio)\n",
    "datos_cmp1_agosto = cmp1(datos_agosto)\n",
    "datos_cmp1_septiembre = cmp1(datos_septiembre)"
   ]
  },
  {
   "cell_type": "code",
   "execution_count": null,
   "id": "premium-shakespeare",
   "metadata": {},
   "outputs": [],
   "source": [
    "#Filtrar datos de viajes en horas valle en zonas distintas a Jersey City, como referencias para complementar en análisis de la campaña #1\n",
    "# from time import time\n",
    "# start_time = time()\n",
    "# datos_cmp1Ref_abril = cmp1_ref(datos_abril)\n",
    "# elapsed_time = time() - start_time\n",
    "# print(\"Elapsed time: %0.10f seconds.\" % elapsed_time)"
   ]
  },
  {
   "cell_type": "code",
   "execution_count": 13,
   "id": "beginning-plate",
   "metadata": {},
   "outputs": [],
   "source": [
    "datos_cmp1Ref_mayo = cmp1_ref(datos_mayo)\n",
    "datos_cmp1Ref_junio = cmp1_ref(datos_junio)\n",
    "datos_cmp1Ref_julio = cmp1_ref(datos_julio)\n",
    "datos_cmp1Ref_agosto = cmp1_ref(datos_agosto)\n",
    "datos_cmp1Ref1_septiembre = cmp1_ref(datos_septiembre)"
   ]
  },
  {
   "cell_type": "code",
   "execution_count": 90,
   "id": "casual-monthly",
   "metadata": {},
   "outputs": [
    {
     "name": "stdout",
     "output_type": "stream",
     "text": [
      "       Hora\n",
      "Fecha      \n",
      "04/01    46\n",
      "04/02    45\n",
      "04/03    50\n",
      "04/04    96\n",
      "04/05    67\n"
     ]
    }
   ],
   "source": [
    "datos_cmp1_abril = cmp1(datos_abril)"
   ]
  },
  {
   "cell_type": "markdown",
   "id": "invisible-remove",
   "metadata": {},
   "source": [
    "### Datos campaña UberPool\n",
    "Se filtran los datos para seleccionar los viajes de la categoria UberPool en la zona de Brooklyn. Finalmente se crea una lista con el conteo del número de viajes diarios."
   ]
  },
  {
   "cell_type": "markdown",
   "id": "available-soccer",
   "metadata": {},
   "source": [
    "## Análisis campaña #1"
   ]
  },
  {
   "cell_type": "code",
   "execution_count": null,
   "id": "french-treasure",
   "metadata": {},
   "outputs": [],
   "source": []
  }
 ],
 "metadata": {
  "kernelspec": {
   "display_name": "Python (bertgpu)",
   "language": "python",
   "name": "bertgpu"
  },
  "language_info": {
   "codemirror_mode": {
    "name": "ipython",
    "version": 3
   },
   "file_extension": ".py",
   "mimetype": "text/x-python",
   "name": "python",
   "nbconvert_exporter": "python",
   "pygments_lexer": "ipython3",
   "version": "3.7.10"
  }
 },
 "nbformat": 4,
 "nbformat_minor": 5
}
