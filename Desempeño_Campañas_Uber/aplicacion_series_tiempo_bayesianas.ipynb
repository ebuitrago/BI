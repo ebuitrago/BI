{
 "cells": [
  {
   "cell_type": "markdown",
   "id": "ethical-devices",
   "metadata": {},
   "source": [
    "# Medición de impacto de campañas publicitarias de Uber mediante series de tiempo bayesianas"
   ]
  },
  {
   "cell_type": "markdown",
   "id": "integrated-zealand",
   "metadata": {},
   "source": [
    "**Elias Buitrago Bolivar** <br>\n",
    "*Bogotá, Colombia* <br>\n",
    "*26/mayo/2021* <br>\n",
    "*Las actualizaciones de este código se encuentran en mi cuenta [github](https://github.com/ebuitrago/BI/blob/main/ARL_accidentes_trabajo/modelo_AT_arboles.ipynb)*"
   ]
  },
  {
   "cell_type": "markdown",
   "id": "international-campus",
   "metadata": {},
   "source": [
    "## Cargar librerías"
   ]
  },
  {
   "cell_type": "code",
   "execution_count": 8,
   "id": "exact-equity",
   "metadata": {},
   "outputs": [],
   "source": [
    "import numpy as np\n",
    "import pandas as pd\n",
    "import datetime\n",
    "import matplotlib.pyplot as plt\n",
    "import datetime as dt"
   ]
  },
  {
   "cell_type": "code",
   "execution_count": null,
   "id": "expanded-creek",
   "metadata": {},
   "outputs": [],
   "source": [
    "from sklearn import preprocessing\n",
    "from sklearn.tree import DecisionTreeClassifier\n",
    "from sklearn.model_selection import train_test_split\n",
    "from sklearn.tree import export_graphviz\n",
    "from sklearn import metrics, svm\n",
    "from sklearn.metrics import recall_score\n",
    "import graphviz\n",
    "import seaborn as sns"
   ]
  },
  {
   "cell_type": "markdown",
   "id": "conventional-customer",
   "metadata": {},
   "source": [
    "## Cargar datos\n",
    "Se leen los archivos de datos formato csv. Inicialmente se tienen disponibles seis archivos con los datos de viajes de Uber desde abril hasta septiembre."
   ]
  },
  {
   "cell_type": "code",
   "execution_count": 9,
   "id": "coated-spanish",
   "metadata": {},
   "outputs": [],
   "source": [
    "col_names = ['No','Fecha.Hora','Lat','Lon','Categoria','Zona']\n",
    "datos_abril = pd.read_csv(\"Datos/datos_abril.csv\", skiprows=1, names=col_names)\n",
    "datos_abril = datos_abril.drop(['No'], axis=1, index=None)\n",
    "datos_mayo = pd.read_csv(\"Datos/datos_mayo.csv\", skiprows=1, names=col_names)\n",
    "datos_mayo = datos_mayo.drop(['No'], axis=1)\n",
    "datos_junio = pd.read_csv(\"Datos/datos_junio.csv\", skiprows=1, names=col_names)\n",
    "datos_junio = datos_junio.drop(['No'], axis=1)\n",
    "datos_julio = pd.read_csv(\"Datos/datos_julio.csv\", skiprows=1, names=col_names)\n",
    "datos_julio = datos_julio.drop(['No'], axis=1)\n",
    "datos_agosto = pd.read_csv(\"Datos/datos_agosto.csv\", skiprows=1, names=col_names)\n",
    "datos_agosto = datos_agosto.drop(['No'], axis=1)\n",
    "datos_septiembre = pd.read_csv(\"Datos/datos_septiembre.csv\", skiprows=1, names=col_names)\n",
    "datos_septiembre = datos_septiembre.drop(['No'], axis=1)"
   ]
  },
  {
   "cell_type": "code",
   "execution_count": null,
   "id": "toxic-teach",
   "metadata": {},
   "outputs": [],
   "source": [
    "# datos = datos_abril\n",
    "# datos = datos.append(datos_mayo)\n",
    "# datos = datos.append(datos_junio)\n",
    "# datos = datos.append(datos_julio)\n",
    "# datos = datos.append(datos_agosto)\n",
    "# datos = datos.append(datos_septiembre)"
   ]
  },
  {
   "cell_type": "markdown",
   "id": "focused-target",
   "metadata": {},
   "source": [
    "## Transformación datos\n",
    "A partir de los datos iniciales, se hacen transformaciones parar obtener los datos específicos que permitan analizar los resultados de las dos campañas adelantadas por la empresa."
   ]
  },
  {
   "cell_type": "markdown",
   "id": "flying-semester",
   "metadata": {},
   "source": [
    "### Datos campaña Jersey City\n",
    "Se filtran los datos para seleccionar los viajes de la zona Jersey City. Luego, se hace otro filtrado para extraer los viajes en las horas valle: desde la media noche hasta las once. Finalmente se crea una lista con el conteo del número de viajes diarias en el horario de interés para la campaña."
   ]
  },
  {
   "cell_type": "code",
   "execution_count": null,
   "id": "continuous-designation",
   "metadata": {},
   "outputs": [],
   "source": [
    "# jc_data = datos_abril[['Zona','Fecha.Hora']].groupby('Zona', ).get_group('Jersey City').reset_index(drop=True)"
   ]
  },
  {
   "cell_type": "code",
   "execution_count": 123,
   "id": "nominated-hunger",
   "metadata": {},
   "outputs": [],
   "source": [
    "def cmp1(datos_mes):\n",
    "    f=[]\n",
    "    d=[]\n",
    "    h=[]\n",
    "    jc_data = datos_mes[(datos_mes.Zona == 'Jersey City')].reset_index(drop=True)\n",
    "    for i in range(0,len(jc_data)):\n",
    "        aux = dt.datetime.strptime(jc_data.iloc[i,0], '%m/%d/%Y %H:%M:%S')\n",
    "#         aux1 = aux.day\n",
    "        aux2 = aux.hour\n",
    "        f.insert(i,aux.strftime('%m/%d'))\n",
    "#         d.insert(i,aux1)\n",
    "        h.insert(i,aux2)\n",
    "\n",
    "    jc_data_cmp1=pd.DataFrame()\n",
    "    jc_data_cmp1['Fecha'] = f\n",
    "#     jc_data_cmp1['Dia'] = d\n",
    "    jc_data_cmp1['Hora'] = h\n",
    "\n",
    "    jc_data_cmp1 = jc_data_cmp1[(jc_data_cmp1.Hora <= 11)].reset_index(drop=True)\n",
    "    serie_cmp1=jc_data_cmp1.groupby('Fecha').count()\n",
    "    return serie_cmp1"
   ]
  },
  {
   "cell_type": "code",
   "execution_count": 124,
   "id": "mineral-response",
   "metadata": {},
   "outputs": [],
   "source": [
    "def cmp1_ref(datos_mes):\n",
    "    f=[]\n",
    "    d=[]\n",
    "    h=[]\n",
    "    jc_data = datos_mes[(datos_mes.Zona != 'Jersey City')].reset_index(drop=True)\n",
    "    for i in range(0,len(jc_data)):\n",
    "        aux = dt.datetime.strptime(jc_data.iloc[i,0], '%m/%d/%Y %H:%M:%S')\n",
    "        aux2 = aux.hour\n",
    "        f.insert(i,aux.strftime('%m/%d'))\n",
    "        h.insert(i,aux2)\n",
    "\n",
    "    jc_data_cmp1=pd.DataFrame()\n",
    "    jc_data_cmp1['Fecha'] = f\n",
    "    jc_data_cmp1['Hora'] = h\n",
    "\n",
    "    jc_data_cmp1 = jc_data_cmp1[(jc_data_cmp1.Hora <= 11)].reset_index(drop=True)\n",
    "    serie_cmp1_ref=jc_data_cmp1.groupby('Fecha').count()    \n",
    "    return serie_cmp1_ref"
   ]
  },
  {
   "cell_type": "code",
   "execution_count": 126,
   "id": "protected-wealth",
   "metadata": {},
   "outputs": [],
   "source": [
    "#Filtrar datos de viajes en horas valle en la zona Jersey City, para analizar la campaña #1\n",
    "datos_cmp1_abril = cmp1(datos_abril)\n",
    "datos_cmp1_mayo = cmp1(datos_mayo)\n",
    "datos_cmp1_junio = cmp1(datos_junio)\n",
    "datos_cmp1_julio = cmp1(datos_julio)\n",
    "datos_cmp1_agosto = cmp1(datos_agosto)\n",
    "datos_cmp1_septiembre = cmp1(datos_septiembre)\n",
    "\n",
    "#Unificar conjuntos de datos mensuales en un solo DataFrame\n",
    "datos_cmp1 = datos_cmp1_abril.append(datos_cmp1_mayo)\n",
    "datos_cmp1 = datos_cmp1.append(datos_cmp1_junio)\n",
    "datos_cmp1 = datos_cmp1.append(datos_cmp1_julio)\n",
    "datos_cmp1 = datos_cmp1.append(datos_cmp1_agosto)\n",
    "datos_cmp1 = datos_cmp1.append(datos_cmp1_septiembre)\n",
    "datos_cmp1.reset_index(inplace=True)"
   ]
  },
  {
   "cell_type": "code",
   "execution_count": 127,
   "id": "danish-thomas",
   "metadata": {},
   "outputs": [
    {
     "data": {
      "text/html": [
       "<div>\n",
       "<style scoped>\n",
       "    .dataframe tbody tr th:only-of-type {\n",
       "        vertical-align: middle;\n",
       "    }\n",
       "\n",
       "    .dataframe tbody tr th {\n",
       "        vertical-align: top;\n",
       "    }\n",
       "\n",
       "    .dataframe thead th {\n",
       "        text-align: right;\n",
       "    }\n",
       "</style>\n",
       "<table border=\"1\" class=\"dataframe\">\n",
       "  <thead>\n",
       "    <tr style=\"text-align: right;\">\n",
       "      <th></th>\n",
       "      <th>Fecha</th>\n",
       "      <th>Hora</th>\n",
       "    </tr>\n",
       "  </thead>\n",
       "  <tbody>\n",
       "    <tr>\n",
       "      <th>178</th>\n",
       "      <td>09/26</td>\n",
       "      <td>105</td>\n",
       "    </tr>\n",
       "    <tr>\n",
       "      <th>179</th>\n",
       "      <td>09/27</td>\n",
       "      <td>281</td>\n",
       "    </tr>\n",
       "    <tr>\n",
       "      <th>180</th>\n",
       "      <td>09/28</td>\n",
       "      <td>336</td>\n",
       "    </tr>\n",
       "    <tr>\n",
       "      <th>181</th>\n",
       "      <td>09/29</td>\n",
       "      <td>131</td>\n",
       "    </tr>\n",
       "    <tr>\n",
       "      <th>182</th>\n",
       "      <td>09/30</td>\n",
       "      <td>79</td>\n",
       "    </tr>\n",
       "  </tbody>\n",
       "</table>\n",
       "</div>"
      ],
      "text/plain": [
       "     Fecha  Hora\n",
       "178  09/26   105\n",
       "179  09/27   281\n",
       "180  09/28   336\n",
       "181  09/29   131\n",
       "182  09/30    79"
      ]
     },
     "execution_count": 127,
     "metadata": {},
     "output_type": "execute_result"
    }
   ],
   "source": [
    "datos_cmp1.tail()"
   ]
  },
  {
   "cell_type": "code",
   "execution_count": null,
   "id": "bearing-physiology",
   "metadata": {},
   "outputs": [],
   "source": [
    "#Filtrar datos de viajes en horas valle en zonas distintas a Jersey City, como referencias para complementar en análisis de la campaña #1\n",
    "datos_cmp1Ref_abril = cmp1_ref(datos_abril)\n",
    "datos_cmp1Ref_mayo = cmp1_ref(datos_mayo)\n",
    "datos_cmp1Ref_junio = cmp1_ref(datos_junio)\n",
    "datos_cmp1Ref_julio = cmp1_ref(datos_julio)\n",
    "datos_cmp1Ref_agosto = cmp1_ref(datos_agosto)\n",
    "datos_cmp1Ref1_septiembre = cmp1_ref(datos_septiembre)\n",
    "\n",
    "#Unificar conjuntos de datos mensuales en un solo DataFrame\n",
    "datos_cmp1Ref = datos_cmp1Ref_abril.append(datos_cmp1Ref_mayo)\n",
    "datos_cmp1Ref = datos_cmp1Ref.append(datos_cmp1Ref_junio)\n",
    "datos_cmp1Ref = datos_cmp1Ref.append(datos_cmp1Ref_julio)\n",
    "datos_cmp1Ref = datos_cmp1Ref.append(datos_cmp1Ref_agosto)\n",
    "datos_cmp1Ref = datos_cmp1Ref.append(datos_cmp1Ref1_septiembre)\n",
    "datos_cmp1Ref.reset_index(inplace=True)"
   ]
  },
  {
   "cell_type": "code",
   "execution_count": null,
   "id": "dimensional-speed",
   "metadata": {},
   "outputs": [],
   "source": [
    "datos_cmp1Ref.tail()"
   ]
  },
  {
   "cell_type": "markdown",
   "id": "listed-syntax",
   "metadata": {},
   "source": [
    "### Datos campaña UberPool\n",
    "Se filtran los datos para seleccionar los viajes de la categoria UberPool en la zona de Brooklyn. Finalmente se crea una lista con el conteo del número de viajes diarios."
   ]
  },
  {
   "cell_type": "markdown",
   "id": "approximate-serbia",
   "metadata": {},
   "source": [
    "## Análisis campaña #1"
   ]
  },
  {
   "cell_type": "code",
   "execution_count": null,
   "id": "cosmetic-examination",
   "metadata": {},
   "outputs": [],
   "source": []
  }
 ],
 "metadata": {
  "kernelspec": {
   "display_name": "Python (bertgpu)",
   "language": "python",
   "name": "bertgpu"
  },
  "language_info": {
   "codemirror_mode": {
    "name": "ipython",
    "version": 3
   },
   "file_extension": ".py",
   "mimetype": "text/x-python",
   "name": "python",
   "nbconvert_exporter": "python",
   "pygments_lexer": "ipython3",
   "version": "3.7.10"
  }
 },
 "nbformat": 4,
 "nbformat_minor": 5
}
