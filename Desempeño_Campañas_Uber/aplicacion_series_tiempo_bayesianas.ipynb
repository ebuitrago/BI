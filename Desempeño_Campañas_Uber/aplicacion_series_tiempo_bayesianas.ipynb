{
 "cells": [
  {
   "cell_type": "markdown",
   "id": "regulation-establishment",
   "metadata": {},
   "source": [
    "# Medición de impacto de campañas publicitarias de Uber mediante series de tiempo bayesianas"
   ]
  },
  {
   "cell_type": "markdown",
   "id": "successful-antigua",
   "metadata": {},
   "source": [
    "**Elias Buitrago Bolivar** <br>\n",
    "*Bogotá, Colombia* <br>\n",
    "*26/mayo/2021* <br>\n",
    "*Las actualizaciones de este código se encuentran en mi cuenta [github](https://github.com/ebuitrago/BI/blob/main/ARL_accidentes_trabajo/modelo_AT_arboles.ipynb)*"
   ]
  },
  {
   "cell_type": "markdown",
   "id": "dirty-prime",
   "metadata": {},
   "source": [
    "## Cargar librerías"
   ]
  },
  {
   "cell_type": "code",
   "execution_count": 1,
   "id": "cutting-night",
   "metadata": {},
   "outputs": [],
   "source": [
    "import numpy as np\n",
    "import pandas as pd\n",
    "import datetime\n",
    "import matplotlib.pyplot as plt\n",
    "import datetime as dt"
   ]
  },
  {
   "cell_type": "markdown",
   "id": "dietary-divorce",
   "metadata": {},
   "source": [
    "## Cargar datos\n",
    "Se leen los archivos de datos formato csv. Inicialmente se tienen disponibles seis archivos con los datos de viajes de Uber desde abril hasta septiembre."
   ]
  },
  {
   "cell_type": "code",
   "execution_count": 2,
   "id": "miniature-donor",
   "metadata": {},
   "outputs": [],
   "source": [
    "col_names = ['No','Fecha.Hora','Lat','Lon','Categoria','Zona']\n",
    "datos_abril = pd.read_csv(\"Datos/datos_abril.csv\", skiprows=1, names=col_names)\n",
    "datos_abril = datos_abril.drop(['No'], axis=1, index=None)\n",
    "datos_mayo = pd.read_csv(\"Datos/datos_mayo.csv\", skiprows=1, names=col_names)\n",
    "datos_mayo = datos_mayo.drop(['No'], axis=1)\n",
    "datos_junio = pd.read_csv(\"Datos/datos_junio.csv\", skiprows=1, names=col_names)\n",
    "datos_junio = datos_junio.drop(['No'], axis=1)\n",
    "datos_julio = pd.read_csv(\"Datos/datos_julio.csv\", skiprows=1, names=col_names)\n",
    "datos_julio = datos_julio.drop(['No'], axis=1)\n",
    "datos_agosto = pd.read_csv(\"Datos/datos_agosto.csv\", skiprows=1, names=col_names)\n",
    "datos_agosto = datos_agosto.drop(['No'], axis=1)\n",
    "datos_septiembre = pd.read_csv(\"Datos/datos_septiembre.csv\", skiprows=1, names=col_names)\n",
    "datos_septiembre = datos_septiembre.drop(['No'], axis=1)"
   ]
  },
  {
   "cell_type": "code",
   "execution_count": 3,
   "id": "identified-crest",
   "metadata": {},
   "outputs": [],
   "source": [
    "datos = datos_abril\n",
    "datos = datos.append(datos_mayo)\n",
    "datos = datos.append(datos_junio)\n",
    "datos = datos.append(datos_julio)\n",
    "datos = datos.append(datos_agosto)\n",
    "datos = datos.append(datos_septiembre)"
   ]
  },
  {
   "cell_type": "markdown",
   "id": "distinguished-schema",
   "metadata": {},
   "source": [
    "## Transformación datos\n",
    "A partir de los datos iniciales, se hacen transformaciones parar obtener los datos específicos que permitan analizar los resultados de las dos campañas adelantadas por la empresa."
   ]
  },
  {
   "cell_type": "markdown",
   "id": "stupid-sense",
   "metadata": {},
   "source": [
    "### Datos para el dashboard\n",
    "La primera transformación se hace para generar un conjunto de datos que ocupe menos tamaña en disco y sea más fácil de leer en _PowerBi_ para efectos del Dashboard.\n",
    "La transformación de datos para crear un nuevo conjunto de datos más liviana para cargar en Power BI, permitió generar un archivo csv de 1.7MB. Si se tiene en cuenta que el archivo más pesado de los datos iniciales ocupa 66MB, la reducción fue notable. De esta manera se logró hacer un cargue y procesamiento de datos más eficiente en Power Bi. Importante resaltar que el archivo generado contiene todos los registros de viajes en todas las zonas y con todas las categorías, desde abril hasta septiembre."
   ]
  },
  {
   "cell_type": "code",
   "execution_count": 4,
   "id": "olympic-needle",
   "metadata": {},
   "outputs": [],
   "source": [
    "#Esta función se utiliza para crear extraer fecha y hora de cada viaje. Se crea u nuevo DataFrame que permite reducir el tamaño del conjunto de datos inicial\n",
    "def data_powerbi(datos_mes):\n",
    "    f=[]\n",
    "    h=[]\n",
    "    hv=[]\n",
    "    data = pd.DataFrame()\n",
    "    data = datos_mes\n",
    "    \n",
    "    #Detección formato de fecha y hora. Extración fecha y hora.\n",
    "    for i in range(0,len(datos_mes)):\n",
    "        aux = dt.datetime.strptime(data.iloc[i,0], '%m/%d/%Y %H:%M:%S')\n",
    "        aux2 = aux.hour\n",
    "        f.insert(i,aux.strftime('%Y-%m-%d'))\n",
    "        h.insert(i,aux2)        \n",
    "    data['Fecha'] = f\n",
    "    data['Hora'] = h\n",
    "    data.drop(['Fecha.Hora'], axis='columns', inplace=True)\n",
    "    data.drop(['Lat'], axis='columns', inplace=True)\n",
    "    data.drop(['Lon'], axis='columns', inplace=True)\n",
    "    return data"
   ]
  },
  {
   "cell_type": "code",
   "execution_count": 5,
   "id": "civic-heading",
   "metadata": {},
   "outputs": [
    {
     "data": {
      "text/html": [
       "<div>\n",
       "<style scoped>\n",
       "    .dataframe tbody tr th:only-of-type {\n",
       "        vertical-align: middle;\n",
       "    }\n",
       "\n",
       "    .dataframe tbody tr th {\n",
       "        vertical-align: top;\n",
       "    }\n",
       "\n",
       "    .dataframe thead th {\n",
       "        text-align: right;\n",
       "    }\n",
       "</style>\n",
       "<table border=\"1\" class=\"dataframe\">\n",
       "  <thead>\n",
       "    <tr style=\"text-align: right;\">\n",
       "      <th></th>\n",
       "      <th></th>\n",
       "      <th></th>\n",
       "      <th></th>\n",
       "    </tr>\n",
       "    <tr>\n",
       "      <th>Fecha</th>\n",
       "      <th>Categoria</th>\n",
       "      <th>Zona</th>\n",
       "      <th>Hora</th>\n",
       "    </tr>\n",
       "  </thead>\n",
       "  <tbody>\n",
       "    <tr>\n",
       "      <th rowspan=\"5\" valign=\"top\">2014-04-01</th>\n",
       "      <th rowspan=\"5\" valign=\"top\">UberBlack</th>\n",
       "      <th rowspan=\"5\" valign=\"top\">Brooklyn</th>\n",
       "      <th>5</th>\n",
       "    </tr>\n",
       "    <tr>\n",
       "      <th>8</th>\n",
       "    </tr>\n",
       "    <tr>\n",
       "      <th>9</th>\n",
       "    </tr>\n",
       "    <tr>\n",
       "      <th>10</th>\n",
       "    </tr>\n",
       "    <tr>\n",
       "      <th>11</th>\n",
       "    </tr>\n",
       "  </tbody>\n",
       "</table>\n",
       "</div>"
      ],
      "text/plain": [
       "Empty DataFrame\n",
       "Columns: []\n",
       "Index: [(2014-04-01, UberBlack, Brooklyn, 5), (2014-04-01, UberBlack, Brooklyn, 8), (2014-04-01, UberBlack, Brooklyn, 9), (2014-04-01, UberBlack, Brooklyn, 10), (2014-04-01, UberBlack, Brooklyn, 11)]"
      ]
     },
     "execution_count": 5,
     "metadata": {},
     "output_type": "execute_result"
    }
   ],
   "source": [
    "data2powerbi = data_powerbi(datos).groupby(['Fecha','Categoria','Zona','Hora']).count() \n",
    "data2powerbi.head()"
   ]
  },
  {
   "cell_type": "code",
   "execution_count": 9,
   "id": "banner-reproduction",
   "metadata": {},
   "outputs": [],
   "source": [
    "data2powerbi.to_csv('data_uber.csv')"
   ]
  },
  {
   "cell_type": "markdown",
   "id": "banned-engagement",
   "metadata": {},
   "source": [
    "### Datos campaña Jersey City\n",
    "Se filtran los datos para seleccionar los viajes de la zona Jersey City. Luego, se hace otro filtrado para extraer los viajes en las horas valle: desde la media noche hasta las once. Finalmente se crea una lista con el conteo del número de viajes diarias en el horario de interés para la campaña."
   ]
  },
  {
   "cell_type": "code",
   "execution_count": 6,
   "id": "lasting-verification",
   "metadata": {},
   "outputs": [],
   "source": [
    "#Esta función se utiliza para filtrar los viajes en la zona de Jersey City y generar un DAtaFrame con los viajes en las horas valle en dicha zona\n",
    "def cmp1(datos_mes):\n",
    "    f=[]\n",
    "    d=[]\n",
    "    h=[]\n",
    "    jc_data = datos_mes[(datos_mes.Zona == 'Jersey City')].reset_index(drop=True)\n",
    "    for i in range(0,len(jc_data)):\n",
    "        aux = dt.datetime.strptime(jc_data.iloc[i,0], '%m/%d/%Y %H:%M:%S')\n",
    "        aux2 = aux.hour\n",
    "        f.insert(i,aux.strftime('%m/%d'))\n",
    "        h.insert(i,aux2)\n",
    "\n",
    "    jc_data_cmp1=pd.DataFrame()\n",
    "    jc_data_cmp1['Fecha'] = f\n",
    "    jc_data_cmp1['Hora'] = h\n",
    "\n",
    "    jc_data_cmp1 = jc_data_cmp1[(jc_data_cmp1.Hora <= 11)].reset_index(drop=True)\n",
    "    serie_cmp1=jc_data_cmp1.groupby('Fecha').count()\n",
    "    return serie_cmp1"
   ]
  },
  {
   "cell_type": "code",
   "execution_count": 7,
   "id": "scheduled-trunk",
   "metadata": {},
   "outputs": [],
   "source": [
    "#Filtrar datos de viajes en horas valle en la zona Jersey City, para analizar la campaña #1\n",
    "datos_cmp1_abril = cmp1(datos_abril)\n",
    "datos_cmp1_mayo = cmp1(datos_mayo)\n",
    "datos_cmp1_junio = cmp1(datos_junio)\n",
    "datos_cmp1_julio = cmp1(datos_julio)\n",
    "datos_cmp1_agosto = cmp1(datos_agosto)\n",
    "datos_cmp1_septiembre = cmp1(datos_septiembre)\n",
    "\n",
    "#Unificar conjuntos de datos mensuales en un solo DataFrame\n",
    "datos_cmp1 = datos_cmp1_abril.append(datos_cmp1_mayo)\n",
    "datos_cmp1 = datos_cmp1.append(datos_cmp1_junio)\n",
    "datos_cmp1 = datos_cmp1.append(datos_cmp1_julio)\n",
    "datos_cmp1 = datos_cmp1.append(datos_cmp1_agosto)\n",
    "datos_cmp1 = datos_cmp1.append(datos_cmp1_septiembre)"
   ]
  },
  {
   "cell_type": "code",
   "execution_count": 8,
   "id": "close-trauma",
   "metadata": {},
   "outputs": [
    {
     "data": {
      "text/html": [
       "<div>\n",
       "<style scoped>\n",
       "    .dataframe tbody tr th:only-of-type {\n",
       "        vertical-align: middle;\n",
       "    }\n",
       "\n",
       "    .dataframe tbody tr th {\n",
       "        vertical-align: top;\n",
       "    }\n",
       "\n",
       "    .dataframe thead th {\n",
       "        text-align: right;\n",
       "    }\n",
       "</style>\n",
       "<table border=\"1\" class=\"dataframe\">\n",
       "  <thead>\n",
       "    <tr style=\"text-align: right;\">\n",
       "      <th></th>\n",
       "      <th>Hora</th>\n",
       "    </tr>\n",
       "    <tr>\n",
       "      <th>Fecha</th>\n",
       "      <th></th>\n",
       "    </tr>\n",
       "  </thead>\n",
       "  <tbody>\n",
       "    <tr>\n",
       "      <th>04/01</th>\n",
       "      <td>46</td>\n",
       "    </tr>\n",
       "    <tr>\n",
       "      <th>04/02</th>\n",
       "      <td>45</td>\n",
       "    </tr>\n",
       "    <tr>\n",
       "      <th>04/03</th>\n",
       "      <td>50</td>\n",
       "    </tr>\n",
       "    <tr>\n",
       "      <th>04/04</th>\n",
       "      <td>96</td>\n",
       "    </tr>\n",
       "    <tr>\n",
       "      <th>04/05</th>\n",
       "      <td>67</td>\n",
       "    </tr>\n",
       "  </tbody>\n",
       "</table>\n",
       "</div>"
      ],
      "text/plain": [
       "       Hora\n",
       "Fecha      \n",
       "04/01    46\n",
       "04/02    45\n",
       "04/03    50\n",
       "04/04    96\n",
       "04/05    67"
      ]
     },
     "execution_count": 8,
     "metadata": {},
     "output_type": "execute_result"
    }
   ],
   "source": [
    "datos_cmp1.head()"
   ]
  },
  {
   "cell_type": "code",
   "execution_count": null,
   "id": "forced-identifier",
   "metadata": {},
   "outputs": [],
   "source": [
    "datos_cmp1.to_csv('datos_cmp1.csv')"
   ]
  },
  {
   "cell_type": "markdown",
   "id": "oriental-rouge",
   "metadata": {},
   "source": [
    "### Datos campaña UberPool\n",
    "Se filtran los datos para seleccionar los viajes de la categoria UberPool en la zona de Brooklyn. Finalmente se crea una lista con el conteo del número de viajes diarios."
   ]
  },
  {
   "cell_type": "code",
   "execution_count": 9,
   "id": "talented-illness",
   "metadata": {},
   "outputs": [],
   "source": [
    "#Esta función se utiliza para filtrar los viajes en la zona de Jersey City y generar un DataFrame con los viajes en las horas valle en dicha zona\n",
    "def cmp2(datos_mes):\n",
    "    f=[]\n",
    "    d=[]\n",
    "    h=[]\n",
    "    jc_data = datos_mes[(datos_mes.Categoria == 'UberPool') & (datos_mes.Zona == 'Brooklyn')].reset_index(drop=True)\n",
    "    for i in range(0,len(jc_data)):\n",
    "        aux = dt.datetime.strptime(jc_data.iloc[i,0], '%m/%d/%Y %H:%M:%S')\n",
    "        aux2 = aux.hour\n",
    "        f.insert(i,aux.strftime('%m/%d'))\n",
    "        h.insert(i,aux2)\n",
    "\n",
    "    jc_data_cmp1=pd.DataFrame()\n",
    "    jc_data_cmp1['Fecha'] = f\n",
    "    jc_data_cmp1['Hora'] = h\n",
    "\n",
    "    serie_cmp2=jc_data_cmp1.groupby('Fecha').count()\n",
    "    return serie_cmp2"
   ]
  },
  {
   "cell_type": "code",
   "execution_count": 10,
   "id": "perceived-metadata",
   "metadata": {},
   "outputs": [],
   "source": [
    "#Filtrar datos de viajes categoria UberPool en la zona Brooklyn, para analizar la campaña #2\n",
    "datos_cmp2_abril = cmp2(datos_abril)\n",
    "datos_cmp2_mayo = cmp2(datos_mayo)\n",
    "datos_cmp2_junio = cmp2(datos_junio)\n",
    "datos_cmp2_julio = cmp2(datos_julio)\n",
    "datos_cmp2_agosto = cmp2(datos_agosto)\n",
    "datos_cmp2_septiembre = cmp2(datos_septiembre)\n",
    "\n",
    "#Unificar conjuntos de datos mensuales en un solo DataFrame\n",
    "datos_cmp2 = datos_cmp2_abril.append(datos_cmp2_mayo)\n",
    "datos_cmp2 = datos_cmp2.append(datos_cmp2_junio)\n",
    "datos_cmp2 = datos_cmp2.append(datos_cmp2_julio)\n",
    "datos_cmp2 = datos_cmp2.append(datos_cmp2_agosto)\n",
    "datos_cmp2 = datos_cmp2.append(datos_cmp2_septiembre)"
   ]
  },
  {
   "cell_type": "code",
   "execution_count": 11,
   "id": "valuable-steal",
   "metadata": {},
   "outputs": [
    {
     "data": {
      "text/html": [
       "<div>\n",
       "<style scoped>\n",
       "    .dataframe tbody tr th:only-of-type {\n",
       "        vertical-align: middle;\n",
       "    }\n",
       "\n",
       "    .dataframe tbody tr th {\n",
       "        vertical-align: top;\n",
       "    }\n",
       "\n",
       "    .dataframe thead th {\n",
       "        text-align: right;\n",
       "    }\n",
       "</style>\n",
       "<table border=\"1\" class=\"dataframe\">\n",
       "  <thead>\n",
       "    <tr style=\"text-align: right;\">\n",
       "      <th></th>\n",
       "      <th>Hora</th>\n",
       "    </tr>\n",
       "    <tr>\n",
       "      <th>Fecha</th>\n",
       "      <th></th>\n",
       "    </tr>\n",
       "  </thead>\n",
       "  <tbody>\n",
       "    <tr>\n",
       "      <th>09/26</th>\n",
       "      <td>1609</td>\n",
       "    </tr>\n",
       "    <tr>\n",
       "      <th>09/27</th>\n",
       "      <td>1589</td>\n",
       "    </tr>\n",
       "    <tr>\n",
       "      <th>09/28</th>\n",
       "      <td>2214</td>\n",
       "    </tr>\n",
       "    <tr>\n",
       "      <th>09/29</th>\n",
       "      <td>1614</td>\n",
       "    </tr>\n",
       "    <tr>\n",
       "      <th>09/30</th>\n",
       "      <td>1236</td>\n",
       "    </tr>\n",
       "  </tbody>\n",
       "</table>\n",
       "</div>"
      ],
      "text/plain": [
       "       Hora\n",
       "Fecha      \n",
       "09/26  1609\n",
       "09/27  1589\n",
       "09/28  2214\n",
       "09/29  1614\n",
       "09/30  1236"
      ]
     },
     "execution_count": 11,
     "metadata": {},
     "output_type": "execute_result"
    }
   ],
   "source": [
    "datos_cmp2.tail()"
   ]
  },
  {
   "cell_type": "code",
   "execution_count": null,
   "id": "looking-addition",
   "metadata": {},
   "outputs": [],
   "source": [
    "datos_cmp2.to_csv('datos_cmp2.csv')"
   ]
  },
  {
   "cell_type": "markdown",
   "id": "natural-vegetarian",
   "metadata": {},
   "source": [
    "## Análisis campaña #1\n",
    "Con el fin de mitigar el riesgo de posibles efectos negativos que no se tenían previstos, se tiene la política de implementar las campañas por zonas, aplicando las promociones en una zona a la vez para luego decidir si es buena idea aplicarlo a las demás. Es por esto que se eligió Jersey City como lugar de prueba de la primera promoción. En esta zona se han aplicado reducciones en el precio de todos los viajes en horas de baja demanda (entre las 00:00 y las 11:00) desde junio hasta septiembre"
   ]
  },
  {
   "cell_type": "markdown",
   "id": "extraordinary-impact",
   "metadata": {},
   "source": [
    "### Modelamiento mediante series de tiempo bayesianas\n",
    "Ref:\n",
    "https://towardsdatascience.com/estimate-the-causal-effect-intervention-on-time-series-with-causalimpact-e949c5cd4147"
   ]
  },
  {
   "cell_type": "code",
   "execution_count": null,
   "id": "organizational-speed",
   "metadata": {},
   "outputs": [],
   "source": [
    "from causalimpact import CausalImpact"
   ]
  },
  {
   "cell_type": "code",
   "execution_count": null,
   "id": "going-bargain",
   "metadata": {},
   "outputs": [],
   "source": [
    "dated_data = datos_cmp1.set_index(pd.date_range(start='20140401', periods=len(datos_cmp1)))\n",
    "dated_data.head()\n",
    "\n",
    "# #Time period for pre-intervention and post-intervention\n",
    "pre_period = ['20140401', '20140531']\n",
    "post_period = ['20140601', '20140930']"
   ]
  },
  {
   "cell_type": "code",
   "execution_count": null,
   "id": "graduate-collector",
   "metadata": {},
   "outputs": [],
   "source": [
    "# #Using Causal Impact analysis, the three parameter you should fill (data, pre-intervention time, post-intervention time)\n",
    "ci = CausalImpact(dated_data, pre_period, post_period)\n",
    "\n",
    "ci.plot(panels=['original'])\n",
    "ci.plot(panels=['pointwise'], figsize=(16,4))\n",
    "ci.plot(panels=['cumulative'], figsize=(16,4))"
   ]
  },
  {
   "cell_type": "code",
   "execution_count": null,
   "id": "naughty-immunology",
   "metadata": {},
   "outputs": [],
   "source": [
    "print(ci.summary())\n",
    "print(ci.summary(output='report'))"
   ]
  },
  {
   "cell_type": "markdown",
   "id": "noble-helena",
   "metadata": {},
   "source": [
    "## Análisis campaña #2\n",
    "En cuanto a la segunda promoción, se seleccionó Brooklyn como zona de pruebas, en donde se han aplicado reducciones de precio a los viajes de UberPool desde agosto hasta septiembre."
   ]
  },
  {
   "cell_type": "markdown",
   "id": "little-investment",
   "metadata": {},
   "source": [
    "### Modelamiento mediante series de tiempo bayesianas"
   ]
  },
  {
   "cell_type": "code",
   "execution_count": null,
   "id": "substantial-newspaper",
   "metadata": {},
   "outputs": [],
   "source": [
    "dated_data2 = datos_cmp2.set_index(pd.date_range(start='20140401', periods=len(datos_cmp2)))\n",
    "dated_data2.head()\n",
    "\n",
    "# #Time period for pre-intervention and post-intervention\n",
    "pre_period = ['20140401', '20140731']\n",
    "post_period = ['20140801', '20140930']"
   ]
  },
  {
   "cell_type": "code",
   "execution_count": null,
   "id": "devoted-banking",
   "metadata": {},
   "outputs": [],
   "source": [
    "# #Using Causal Impact analysis, the three parameter you should fill (data, pre-intervention time, post-intervention time)\n",
    "ci = CausalImpact(dated_data2, pre_period, post_period)\n",
    "\n",
    "ci.plot(panels=['original'])\n",
    "ci.plot(panels=['pointwise'], figsize=(16,4))\n",
    "ci.plot(panels=['cumulative'], figsize=(16,4))"
   ]
  },
  {
   "cell_type": "code",
   "execution_count": null,
   "id": "judicial-services",
   "metadata": {},
   "outputs": [],
   "source": [
    "print(ci.summary())\n",
    "print(ci.summary(output='report'))"
   ]
  }
 ],
 "metadata": {
  "kernelspec": {
   "display_name": "Python (bertgpu)",
   "language": "python",
   "name": "bertgpu"
  },
  "language_info": {
   "codemirror_mode": {
    "name": "ipython",
    "version": 3
   },
   "file_extension": ".py",
   "mimetype": "text/x-python",
   "name": "python",
   "nbconvert_exporter": "python",
   "pygments_lexer": "ipython3",
   "version": "3.7.10"
  }
 },
 "nbformat": 4,
 "nbformat_minor": 5
}
