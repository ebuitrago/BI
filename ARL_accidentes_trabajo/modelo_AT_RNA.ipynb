{
 "cells": [
  {
   "cell_type": "markdown",
   "id": "willing-raleigh",
   "metadata": {},
   "source": [
    "# Modelo de clasificación de accidentalidad laboral mediante redes neuronales"
   ]
  },
  {
   "cell_type": "markdown",
   "id": "indonesian-spectrum",
   "metadata": {},
   "source": [
    "**Elias Buitrago Bolivar** <br>\n",
    "*Bogotá, Colombia* <br>\n",
    "*7/abril/2021* <br>"
   ]
  },
  {
   "cell_type": "markdown",
   "id": "characteristic-right",
   "metadata": {},
   "source": [
    "## Cargar librerías"
   ]
  },
  {
   "cell_type": "code",
   "execution_count": 1,
   "id": "loose-elizabeth",
   "metadata": {},
   "outputs": [
    {
     "name": "stderr",
     "output_type": "stream",
     "text": [
      "C:\\Users\\ebuit\\miniconda3\\lib\\site-packages\\numpy\\_distributor_init.py:32: UserWarning: loaded more than 1 DLL from .libs:\n",
      "C:\\Users\\ebuit\\miniconda3\\lib\\site-packages\\numpy\\.libs\\libopenblas.JPIJNSWNNAN3CE6LLI5FWSPHUT2VXMTH.gfortran-win_amd64.dll\n",
      "C:\\Users\\ebuit\\miniconda3\\lib\\site-packages\\numpy\\.libs\\libopenblas.PYQHXLVVQ7VESDPUVUADXEVJOBGHJPAY.gfortran-win_amd64.dll\n",
      "C:\\Users\\ebuit\\miniconda3\\lib\\site-packages\\numpy\\.libs\\libopenblas.QVLO2T66WEPI7JZ63PS3HMOHFEY472BC.gfortran-win_amd64.dll\n",
      "C:\\Users\\ebuit\\miniconda3\\lib\\site-packages\\numpy\\.libs\\libopenblas.WCDJNK7YVMPZQ2ME2ZZHJJRJ3JIKNDB7.gfortran-win_amd64.dll\n",
      "  stacklevel=1)\n",
      "C:\\Users\\ebuit\\miniconda3\\lib\\site-packages\\tensorflow\\python\\framework\\dtypes.py:516: FutureWarning: Passing (type, 1) or '1type' as a synonym of type is deprecated; in a future version of numpy, it will be understood as (type, (1,)) / '(1,)type'.\n",
      "  _np_qint8 = np.dtype([(\"qint8\", np.int8, 1)])\n",
      "C:\\Users\\ebuit\\miniconda3\\lib\\site-packages\\tensorflow\\python\\framework\\dtypes.py:517: FutureWarning: Passing (type, 1) or '1type' as a synonym of type is deprecated; in a future version of numpy, it will be understood as (type, (1,)) / '(1,)type'.\n",
      "  _np_quint8 = np.dtype([(\"quint8\", np.uint8, 1)])\n",
      "C:\\Users\\ebuit\\miniconda3\\lib\\site-packages\\tensorflow\\python\\framework\\dtypes.py:518: FutureWarning: Passing (type, 1) or '1type' as a synonym of type is deprecated; in a future version of numpy, it will be understood as (type, (1,)) / '(1,)type'.\n",
      "  _np_qint16 = np.dtype([(\"qint16\", np.int16, 1)])\n",
      "C:\\Users\\ebuit\\miniconda3\\lib\\site-packages\\tensorflow\\python\\framework\\dtypes.py:519: FutureWarning: Passing (type, 1) or '1type' as a synonym of type is deprecated; in a future version of numpy, it will be understood as (type, (1,)) / '(1,)type'.\n",
      "  _np_quint16 = np.dtype([(\"quint16\", np.uint16, 1)])\n",
      "C:\\Users\\ebuit\\miniconda3\\lib\\site-packages\\tensorflow\\python\\framework\\dtypes.py:520: FutureWarning: Passing (type, 1) or '1type' as a synonym of type is deprecated; in a future version of numpy, it will be understood as (type, (1,)) / '(1,)type'.\n",
      "  _np_qint32 = np.dtype([(\"qint32\", np.int32, 1)])\n",
      "C:\\Users\\ebuit\\miniconda3\\lib\\site-packages\\tensorflow\\python\\framework\\dtypes.py:525: FutureWarning: Passing (type, 1) or '1type' as a synonym of type is deprecated; in a future version of numpy, it will be understood as (type, (1,)) / '(1,)type'.\n",
      "  np_resource = np.dtype([(\"resource\", np.ubyte, 1)])\n",
      "C:\\Users\\ebuit\\miniconda3\\lib\\site-packages\\tensorboard\\compat\\tensorflow_stub\\dtypes.py:541: FutureWarning: Passing (type, 1) or '1type' as a synonym of type is deprecated; in a future version of numpy, it will be understood as (type, (1,)) / '(1,)type'.\n",
      "  _np_qint8 = np.dtype([(\"qint8\", np.int8, 1)])\n",
      "C:\\Users\\ebuit\\miniconda3\\lib\\site-packages\\tensorboard\\compat\\tensorflow_stub\\dtypes.py:542: FutureWarning: Passing (type, 1) or '1type' as a synonym of type is deprecated; in a future version of numpy, it will be understood as (type, (1,)) / '(1,)type'.\n",
      "  _np_quint8 = np.dtype([(\"quint8\", np.uint8, 1)])\n",
      "C:\\Users\\ebuit\\miniconda3\\lib\\site-packages\\tensorboard\\compat\\tensorflow_stub\\dtypes.py:543: FutureWarning: Passing (type, 1) or '1type' as a synonym of type is deprecated; in a future version of numpy, it will be understood as (type, (1,)) / '(1,)type'.\n",
      "  _np_qint16 = np.dtype([(\"qint16\", np.int16, 1)])\n",
      "C:\\Users\\ebuit\\miniconda3\\lib\\site-packages\\tensorboard\\compat\\tensorflow_stub\\dtypes.py:544: FutureWarning: Passing (type, 1) or '1type' as a synonym of type is deprecated; in a future version of numpy, it will be understood as (type, (1,)) / '(1,)type'.\n",
      "  _np_quint16 = np.dtype([(\"quint16\", np.uint16, 1)])\n",
      "C:\\Users\\ebuit\\miniconda3\\lib\\site-packages\\tensorboard\\compat\\tensorflow_stub\\dtypes.py:545: FutureWarning: Passing (type, 1) or '1type' as a synonym of type is deprecated; in a future version of numpy, it will be understood as (type, (1,)) / '(1,)type'.\n",
      "  _np_qint32 = np.dtype([(\"qint32\", np.int32, 1)])\n",
      "C:\\Users\\ebuit\\miniconda3\\lib\\site-packages\\tensorboard\\compat\\tensorflow_stub\\dtypes.py:550: FutureWarning: Passing (type, 1) or '1type' as a synonym of type is deprecated; in a future version of numpy, it will be understood as (type, (1,)) / '(1,)type'.\n",
      "  np_resource = np.dtype([(\"resource\", np.ubyte, 1)])\n"
     ]
    }
   ],
   "source": [
    "import matplotlib.pyplot as plt\n",
    "import numpy as np\n",
    "import pandas as pd\n",
    "from sklearn import preprocessing\n",
    "from sklearn import metrics\n",
    "from sklearn.preprocessing import StandardScaler\n",
    "from sklearn.model_selection import train_test_split as split\n",
    "from tensorflow.keras import utils as np_utils\n",
    "from sklearn.metrics import recall_score\n",
    "import tensorflow as tf\n",
    "\n"
   ]
  },
  {
   "cell_type": "markdown",
   "id": "superior-estimate",
   "metadata": {},
   "source": [
    "## Cargar datos"
   ]
  },
  {
   "cell_type": "code",
   "execution_count": 95,
   "id": "weekly-suspect",
   "metadata": {},
   "outputs": [],
   "source": [
    "#Cargar datos para el modelo\n",
    "#En PowerBI se creo un nuevo dataset a partir de los datos original con el objetivo de filtrar variables de interés.\n",
    "col_names = ['id_trabajador', 'edad', 'genero', 'nivel_educativo', 'num_hijos', \n",
    "             'tipo_cargo', 'capacitado', 'jornada', 'antiguedad', 'id_empresa', \n",
    "             'accidentado', 'id_accidente', 'parte_del_cuerpo', 'lesion', \n",
    "             'sector_economico', 'tipo_empresa', 'sistema_gestion']\n",
    "trabajadores_full = pd.read_excel(\"datos/trabajadores_full.xlsx\", names=col_names)\n",
    "trabajadores_full.head()\n",
    "trabajadores_full.shape\n",
    "\n",
    "#Transformar variables string a numérico\n",
    "trabajadores_full_num = trabajadores_full\n",
    "trabajadores_full_num['genero'] = preprocessing.LabelEncoder().fit_transform(trabajadores_full_num['genero'])\n",
    "trabajadores_full_num['nivel_educativo'] = preprocessing.LabelEncoder().fit_transform(trabajadores_full_num['nivel_educativo'])\n",
    "trabajadores_full_num['tipo_cargo'] = preprocessing.LabelEncoder().fit_transform(trabajadores_full_num['tipo_cargo'])\n",
    "trabajadores_full_num['jornada'] = preprocessing.LabelEncoder().fit_transform(trabajadores_full_num['jornada'])\n",
    "# trabajadores_full_num['parte_del_cuerpo'] = preprocessing.LabelEncoder().fit_transform(trabajadores_full_num['parte_del_cuerpo'])\n",
    "# trabajadores_full_num['lesion'] = preprocessing.LabelEncoder().fit_transform(trabajadores_full_num['lesion'])\n",
    "trabajadores_full_num['sector_economico'] = preprocessing.LabelEncoder().fit_transform(trabajadores_full_num['sector_economico'])\n",
    "trabajadores_full_num['tipo_empresa'] = preprocessing.LabelEncoder().fit_transform(trabajadores_full_num['tipo_empresa'])\n",
    "##datacc[\"Promedio dias de transporte\"].isnull().values.any()\n",
    "\n",
    "# Variables para el modelo\n",
    "feature_cols=['edad', 'genero', 'nivel_educativo', 'num_hijos', \n",
    "             'tipo_cargo', 'capacitado', 'jornada', 'antiguedad', 'id_empresa', \n",
    "             'sector_economico', 'tipo_empresa', \n",
    "             'sistema_gestion']\n",
    "\n",
    "X = trabajadores_full_num[feature_cols] # Caracteristicas\n",
    "y = trabajadores_full_num.accidentado # Variable objetivo"
   ]
  },
  {
   "cell_type": "code",
   "execution_count": 96,
   "id": "recognized-reducing",
   "metadata": {},
   "outputs": [
    {
     "data": {
      "text/plain": [
       "0"
      ]
     },
     "execution_count": 96,
     "metadata": {},
     "output_type": "execute_result"
    }
   ],
   "source": [
    "trabajadores_full_num.accidentado[0]"
   ]
  },
  {
   "cell_type": "markdown",
   "id": "satellite-package",
   "metadata": {},
   "source": [
    "## Estandarizar"
   ]
  },
  {
   "cell_type": "code",
   "execution_count": 97,
   "id": "otherwise-tiffany",
   "metadata": {},
   "outputs": [
    {
     "data": {
      "text/plain": [
       "(3000, 12)"
      ]
     },
     "execution_count": 97,
     "metadata": {},
     "output_type": "execute_result"
    }
   ],
   "source": [
    "sc = StandardScaler()\n",
    "Xstand = sc.fit(X)\n",
    "X2 = Xstand.transform(X)\n",
    "X2.shape"
   ]
  },
  {
   "cell_type": "markdown",
   "id": "quantitative-fisher",
   "metadata": {},
   "source": [
    "## Datos de entrenamiento prueba y validación"
   ]
  },
  {
   "cell_type": "code",
   "execution_count": 98,
   "id": "industrial-interface",
   "metadata": {},
   "outputs": [
    {
     "name": "stdout",
     "output_type": "stream",
     "text": [
      "(1680, 12) (900, 12) (420, 12)\n",
      "(1680,) (900,) (420,)\n"
     ]
    }
   ],
   "source": [
    "X_train, X_test, y_train, y_test = split(X2,y,test_size=0.30, random_state=42)\n",
    "X_train, X_valid, y_train, y_valid = split(X_train, y_train, test_size=0.2)\n",
    "print(X_train.shape, X_test.shape, X_valid.shape)\n",
    "print(y_train.shape, y_test.shape, y_valid.shape)"
   ]
  },
  {
   "cell_type": "markdown",
   "id": "enhanced-conditioning",
   "metadata": {},
   "source": [
    "## Crear modelo de RNA _(Fully Connected)_"
   ]
  },
  {
   "cell_type": "code",
   "execution_count": 99,
   "id": "later-boundary",
   "metadata": {},
   "outputs": [],
   "source": [
    "Y_train = y_train.astype('category')\n",
    "Y_test = y_test.astype('category')\n",
    "Y_valid = y_valid.astype('category')\n",
    "Y_train = Y_train.to_numpy()\n",
    "Y_test = y_test.to_numpy()\n",
    "Y_valid = y_valid.to_numpy()"
   ]
  },
  {
   "cell_type": "code",
   "execution_count": 100,
   "id": "reserved-machinery",
   "metadata": {},
   "outputs": [],
   "source": [
    "# Y_train = np_utils.to_categorical(y_train)\n",
    "# Y_test = np_utils.to_categorical(y_test)\n",
    "# Y_valid = np_utils.to_categorical(y_valid) \n",
    "# print(Y_train.shape)\n",
    "# Y_train"
   ]
  },
  {
   "cell_type": "code",
   "execution_count": 101,
   "id": "owned-science",
   "metadata": {},
   "outputs": [
    {
     "data": {
      "text/plain": [
       "(1680,)"
      ]
     },
     "execution_count": 101,
     "metadata": {},
     "output_type": "execute_result"
    }
   ],
   "source": [
    "Y_train.shape"
   ]
  },
  {
   "cell_type": "code",
   "execution_count": 102,
   "id": "naval-netscape",
   "metadata": {},
   "outputs": [
    {
     "data": {
      "text/plain": [
       "(1680, 12)"
      ]
     },
     "execution_count": 102,
     "metadata": {},
     "output_type": "execute_result"
    }
   ],
   "source": [
    "X_train.shape"
   ]
  },
  {
   "cell_type": "code",
   "execution_count": 103,
   "id": "three-composite",
   "metadata": {},
   "outputs": [],
   "source": [
    "from tensorflow.keras import models\n",
    "from tensorflow.keras import layers\n",
    "from tensorflow.keras import optimizers\n",
    "from tensorflow.keras import regularizers"
   ]
  },
  {
   "cell_type": "code",
   "execution_count": 104,
   "id": "otherwise-honor",
   "metadata": {},
   "outputs": [],
   "source": [
    "# model = models.Sequential()\n",
    "# model.add(layers.Dense(16, activation='tanh'))\n",
    "# model.add(layers.Dropout(0.2))\n",
    "# model.add(layers.Dense(16,  activation='tanh'))\n",
    "# model.add(layers.Dropout(0.2))\n",
    "# model.add(layers.Dense(16, activation='tanh'))\n",
    "# model.add(layers.Dropout(0.2))\n",
    "# model.add(layers.Dense(16, activation='tanh'))\n",
    "# model.add(layers.Dropout(0.2))\n",
    "# model.add(layers.Dense(8, activation='sigmoid'))\n",
    "\n",
    "# # compile the keras (tensorflow) flow graph\n",
    "# model.compile(optimizer=optimizers.RMSprop(lr=0.001),\n",
    "#                 loss='binary_crossentropy',\n",
    "#                 metrics=['accuracy'])\n",
    "\n",
    "# # train the network  #ajuste de la red\n",
    "# H=model.fit(X_train, Y_train, epochs=100, batch_size=16, verbose=False,\n",
    "#             validation_data=(X_valid, Y_valid),\n",
    "#             )"
   ]
  },
  {
   "cell_type": "code",
   "execution_count": 126,
   "id": "placed-lesbian",
   "metadata": {},
   "outputs": [],
   "source": [
    "# Definir función para construir RNA\n",
    "def construrna():\n",
    "    #Contruir RNA\n",
    "    model = models.Sequential()\n",
    "    model.add(layers.Dense(4, activation='tanh'))\n",
    "    model.add(layers.Dropout(0.1))\n",
    "    model.add(layers.Dense(4,  activation='relu'))\n",
    "    model.add(layers.Dropout(0.1))\n",
    "    model.add(layers.Dense(2, activation='relu'))\n",
    "    model.add(layers.Dropout(0.1))\n",
    "\n",
    "\n",
    "#     model.add(layers.Dense(16, kernel_regularizer=regularizers.l2(0.001), activation='tanh'))\n",
    "#     model.add(layers.Dense(16, kernel_regularizer=regularizers.l2(0.001), activation='tanh'))\n",
    "#     model.add(layers.Dense(16, kernel_regularizer=regularizers.l2(0.001), activation='tanh'))\n",
    "# #     model.add(layers.Dense(8, kernel_regularizer=regularizers.l2(0.001), activation='relu'))\n",
    "    \n",
    "# compile the keras (tensorflow) flow graph\n",
    "    model.compile(optimizer=optimizers.RMSprop(lr=0.001),\n",
    "                  loss='binary_crossentropy',\n",
    "                  metrics=['accuracy'])\n",
    "    return model"
   ]
  },
  {
   "cell_type": "code",
   "execution_count": 127,
   "id": "revised-bumper",
   "metadata": {},
   "outputs": [],
   "source": [
    "# Definir función para entrenar RNA\n",
    "def trainrna(model, epo, batch,partial_x_train,partial_y_train,x_val,y_val):\n",
    "    history = model.fit(partial_x_train,\n",
    "                        partial_y_train,\n",
    "                        epochs=epo,\n",
    "                        batch_size=batch,\n",
    "                        validation_data=(x_val, y_val),\n",
    "                        verbose=False)\n",
    "    return history"
   ]
  },
  {
   "cell_type": "code",
   "execution_count": 128,
   "id": "ignored-subscription",
   "metadata": {},
   "outputs": [],
   "source": [
    "# Construir la red neuronal\n",
    "model = construrna()\n",
    "# Entrenar la red neuronal\n",
    "history_rna = trainrna(model, 50, 16, X_train,Y_train,X_valid,Y_valid)"
   ]
  },
  {
   "cell_type": "markdown",
   "id": "burning-video",
   "metadata": {},
   "source": [
    "## Métricas de desempeño"
   ]
  },
  {
   "cell_type": "markdown",
   "id": "informed-portable",
   "metadata": {},
   "source": [
    "### Pérdidas en el entrenamiento y validación"
   ]
  },
  {
   "cell_type": "code",
   "execution_count": 129,
   "id": "frank-punishment",
   "metadata": {},
   "outputs": [
    {
     "data": {
      "image/png": "[encoded data removed]",
      "text/plain": [
       "<Figure size 1152x360 with 2 Axes>"
      ]
     },
     "metadata": {
      "needs_background": "light"
     },
     "output_type": "display_data"
    }
   ],
   "source": [
    "loss = history_rna.history['loss']\n",
    "val_loss = history_rna.history['val_loss']\n",
    "epochs = range(1, len(val_loss) + 1)\n",
    "\n",
    "# Generar gráfica comparativa: pérdida en entrenamiento\n",
    "plt.figure(figsize=(16, 5))\n",
    "plt.subplot(1, 2, 1)\n",
    "plt.plot(epochs, loss, 'g*--', label='ARN Grande (n=512)')\n",
    "plt.title('Pérdida en el entrenamiento arquitectura ARN')\n",
    "plt.xlabel('Épocas')\n",
    "plt.ylabel('Pérdida')\n",
    "plt.legend(loc=\"upper center\", fontsize=\"small\")\n",
    "plt.legend()\n",
    "plt.grid(True)\n",
    "\n",
    "# Generar gráfica comparativa: pérdida en validación\n",
    "plt.subplot(1, 2, 2)\n",
    "plt.plot(epochs, val_loss, 'b*--', label='ARN Grande (n=512)')\n",
    "plt.title('Pérdida en la validación arquitectura ARN')\n",
    "plt.xlabel('Épocas')\n",
    "plt.ylabel('Pérdida')\n",
    "plt.legend(loc=\"upper center\", fontsize=\"small\")\n",
    "plt.legend()\n",
    "plt.grid(True)\n",
    "plt.show()"
   ]
  },
  {
   "cell_type": "markdown",
   "id": "thick-cartridge",
   "metadata": {},
   "source": [
    "### Exactitud"
   ]
  },
  {
   "cell_type": "code",
   "execution_count": 130,
   "id": "ready-warrior",
   "metadata": {},
   "outputs": [
    {
     "name": "stdout",
     "output_type": "stream",
     "text": [
      "900/900 [==============================] - 0s 23us/sample - loss: 0.6408 - acc: 0.6450\n",
      "\n",
      "Exactitud evaluación: 0.645\n"
     ]
    }
   ],
   "source": [
    "# check trined network so far on the test data\n",
    "test_loss, test_acc = model.evaluate(X_test, Y_test)# testeo de la red con los de prueba\n",
    "print('\\nExactitud evaluación:',test_acc)"
   ]
  },
  {
   "cell_type": "code",
   "execution_count": 131,
   "id": "classical-communications",
   "metadata": {},
   "outputs": [
    {
     "name": "stdout",
     "output_type": "stream",
     "text": [
      "900/900 [==============================] - 0s 79us/sample\n"
     ]
    },
    {
     "data": {
      "text/plain": [
       "(900,)"
      ]
     },
     "execution_count": 131,
     "metadata": {},
     "output_type": "execute_result"
    }
   ],
   "source": [
    "Y_pred = model.predict_classes(X_test, batch_size=16, verbose=1)\n",
    "Y_pred.shape"
   ]
  },
  {
   "cell_type": "markdown",
   "id": "third-asthma",
   "metadata": {},
   "source": [
    "### Recall"
   ]
  },
  {
   "cell_type": "code",
   "execution_count": 132,
   "id": "seasonal-shopper",
   "metadata": {},
   "outputs": [
    {
     "data": {
      "text/plain": [
       "0.43"
      ]
     },
     "execution_count": 132,
     "metadata": {},
     "output_type": "execute_result"
    }
   ],
   "source": [
    "recall_score(Y_test, Y_pred, average='weighted')"
   ]
  },
  {
   "cell_type": "markdown",
   "id": "initial-nightmare",
   "metadata": {},
   "source": [
    "### Matriz de confusión"
   ]
  },
  {
   "cell_type": "code",
   "execution_count": 133,
   "id": "promising-samuel",
   "metadata": {},
   "outputs": [
    {
     "name": "stdout",
     "output_type": "stream",
     "text": [
      "[[114 448]\n",
      " [ 65 273]]\n"
     ]
    }
   ],
   "source": [
    "#0: No accidentado\n",
    "#1: accidentado\n",
    "\n",
    "# Print the confusion matrix\n",
    "cm = metrics.confusion_matrix(Y_test, Y_pred)\n",
    "print(cm)"
   ]
  },
  {
   "cell_type": "code",
   "execution_count": 134,
   "id": "loved-console",
   "metadata": {},
   "outputs": [
    {
     "name": "stdout",
     "output_type": "stream",
     "text": [
      "\n",
      "               precision    recall  f1-score   support\n",
      "\n",
      "           0       0.64      0.20      0.31       562\n",
      "           1       0.38      0.81      0.52       338\n",
      "\n",
      "    accuracy                           0.43       900\n",
      "   macro avg       0.51      0.51      0.41       900\n",
      "weighted avg       0.54      0.43      0.39       900\n",
      "\n"
     ]
    }
   ],
   "source": [
    "# Mostrar la precisión, recall, F1-score\n",
    "print(\"\\n\", metrics.classification_report(Y_test, Y_pred, digits=2))"
   ]
  },
  {
   "cell_type": "code",
   "execution_count": 135,
   "id": "infectious-contrast",
   "metadata": {},
   "outputs": [
    {
     "data": {
      "image/png": "[encoded data removed]",
      "text/plain": [
       "<Figure size 432x288 with 1 Axes>"
      ]
     },
     "metadata": {
      "needs_background": "light"
     },
     "output_type": "display_data"
    }
   ],
   "source": [
    "plt.imshow(cm, cmap='Blues', interpolation='None')\n",
    "plt.show()"
   ]
  },
  {
   "cell_type": "code",
   "execution_count": null,
   "id": "outer-president",
   "metadata": {},
   "outputs": [],
   "source": []
  }
 ],
 "metadata": {
  "kernelspec": {
   "display_name": "Python 3",
   "language": "python",
   "name": "python3"
  },
  "language_info": {
   "codemirror_mode": {
    "name": "ipython",
    "version": 3
   },
   "file_extension": ".py",
   "mimetype": "text/x-python",
   "name": "python",
   "nbconvert_exporter": "python",
   "pygments_lexer": "ipython3",
   "version": "3.7.7"
  }
 },
 "nbformat": 4,
 "nbformat_minor": 5
}
